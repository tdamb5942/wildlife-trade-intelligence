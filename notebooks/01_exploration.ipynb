{
 "cells": [
  {
   "cell_type": "code",
   "execution_count": null,
   "id": "7249272a",
   "metadata": {},
   "outputs": [],
   "source": [
    "import pandas as pd\n",
    "from pathlib import Path\n",
    "import os\n",
    "import sys\n",
    "import pickle\n",
    "\n",
    "sys.path.append(str(Path().resolve().parent / \"src\"))\n",
    "\n",
    "from ingest import load_cites_data\n",
    "from mock import generate_mock_trafficking_data\n",
    "from wtie.viz.map_routes import create_trade_routes_map"
   ]
  },
  {
   "cell_type": "markdown",
   "id": "1f8292c0",
   "metadata": {},
   "source": [
    "**Load and Filter Data**"
   ]
  },
  {
   "cell_type": "code",
   "execution_count": null,
   "id": "cad508de",
   "metadata": {},
   "outputs": [],
   "source": [
    "df_raw = pd.read_csv(\"../data/cites/sample.csv\", low_memory=False)\n",
    "df_legal = load_cites_data(df_raw)\n",
    "\n",
    "df_legal.head()"
   ]
  },
  {
   "cell_type": "markdown",
   "id": "99b05067",
   "metadata": {},
   "source": [
    "**Load Synthetic Mock Data**"
   ]
  },
  {
   "cell_type": "code",
   "execution_count": null,
   "id": "001aad28",
   "metadata": {},
   "outputs": [],
   "source": [
    "df_synth = generate_mock_trafficking_data()\n",
    "df_synth.head()"
   ]
  },
  {
   "cell_type": "markdown",
   "id": "f9ca8fec",
   "metadata": {},
   "source": [
    "**Combine for Unified View**"
   ]
  },
  {
   "cell_type": "code",
   "execution_count": null,
   "id": "e4c36425",
   "metadata": {},
   "outputs": [],
   "source": [
    "df_all = pd.concat([df_legal, df_synth], ignore_index=True)\n",
    "df_all[\"synthetic\"].value_counts()"
   ]
  },
  {
   "cell_type": "markdown",
   "id": "1ca87342",
   "metadata": {},
   "source": [
    "**Top Importers/Exporters**"
   ]
  },
  {
   "cell_type": "code",
   "execution_count": null,
   "id": "028357a7",
   "metadata": {},
   "outputs": [],
   "source": [
    "df_all[\"Exporter\"].value_counts().head(10)"
   ]
  },
  {
   "cell_type": "code",
   "execution_count": null,
   "id": "cac12164",
   "metadata": {},
   "outputs": [],
   "source": [
    "df_all[\"Importer\"].value_counts().head(10)"
   ]
  },
  {
   "cell_type": "markdown",
   "id": "dc426cc6",
   "metadata": {},
   "source": [
    "**Most Common Trade Routes**"
   ]
  },
  {
   "cell_type": "code",
   "execution_count": null,
   "id": "c9a5ea5d",
   "metadata": {},
   "outputs": [],
   "source": [
    "df_all.groupby([\"Exporter\", \"Importer\", \"synthetic\"]).size().sort_values(\n",
    "    ascending=False\n",
    ").head(10)"
   ]
  },
  {
   "cell_type": "markdown",
   "id": "a4a29774",
   "metadata": {},
   "source": [
    "**Most Common Species & Terms**"
   ]
  },
  {
   "cell_type": "code",
   "execution_count": null,
   "id": "b192a900",
   "metadata": {},
   "outputs": [],
   "source": [
    "df_all[\"Taxon\"].value_counts().head(10)"
   ]
  },
  {
   "cell_type": "code",
   "execution_count": null,
   "id": "630299ba",
   "metadata": {},
   "outputs": [],
   "source": [
    "df_all[\"Term\"].value_counts()"
   ]
  },
  {
   "cell_type": "markdown",
   "id": "a7fa07b5",
   "metadata": {},
   "source": [
    "**Map**"
   ]
  },
  {
   "cell_type": "code",
   "execution_count": null,
   "id": "3c2984e1",
   "metadata": {},
   "outputs": [],
   "source": [
    "os.makedirs(\"outputs\", exist_ok=True)\n",
    "\n",
    "# Point to the project root and the flat file path\n",
    "storage_path = Path(\"../storage\").resolve()\n",
    "file_path = storage_path / \"combined_trade_data\"\n",
    "\n",
    "with open(file_path, \"rb\") as f:\n",
    "    df = pickle.load(f)\n",
    "\n",
    "output_path = Path(\"../outputs/trade_routes_map.html\").resolve()\n",
    "\n",
    "create_trade_routes_map(df, output_path=output_path)"
   ]
  },
  {
   "cell_type": "code",
   "execution_count": null,
   "id": "dd858541",
   "metadata": {},
   "outputs": [],
   "source": [
    "df.info()\n",
    "df.head()"
   ]
  }
 ],
 "metadata": {
  "kernelspec": {
   "display_name": "wildlife-trade-intelligence",
   "language": "python",
   "name": "python3"
  },
  "language_info": {
   "codemirror_mode": {
    "name": "ipython",
    "version": 3
   },
   "file_extension": ".py",
   "mimetype": "text/x-python",
   "name": "python",
   "nbconvert_exporter": "python",
   "pygments_lexer": "ipython3",
   "version": "3.12.7"
  }
 },
 "nbformat": 4,
 "nbformat_minor": 5
}
